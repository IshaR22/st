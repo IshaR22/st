{
 "cells": [
  {
   "cell_type": "code",
   "execution_count": null,
   "id": "09af12b9-5fd3-4776-a421-c2223f01989f",
   "metadata": {},
   "outputs": [],
   "source": [
    "Q1: What is Estimation Statistics? Explain point estimate and interval estimate."
   ]
  },
  {
   "cell_type": "code",
   "execution_count": null,
   "id": "17200d03-b40c-441c-b97b-7f636c3e86a7",
   "metadata": {},
   "outputs": [],
   "source": [
    "deals with the estimation of unknown population parameters based on a sample of data. \n",
    "A point estimate is a single value estimate of a population parameter. \n",
    "It is a single number that represents the best guess of the population parameter based on the sample data. \n",
    "Point estimates are often used to summarize the sample data and provide a concise summary of the population parameter.\n",
    "\n",
    "interval estimate is the range of value use to estimate the unknown population parameter also known as confidence\n",
    "interval"
   ]
  },
  {
   "cell_type": "code",
   "execution_count": null,
   "id": "35b0abae-8d09-4400-803f-5e2f095472f4",
   "metadata": {},
   "outputs": [],
   "source": [
    "Q2. Write a Python function to estimate the population mean using a sample mean and standard\n",
    "deviation."
   ]
  },
  {
   "cell_type": "code",
   "execution_count": null,
   "id": "00e00e13-3da8-4d27-8914-e2b9057076e2",
   "metadata": {},
   "outputs": [],
   "source": [
    "def estimate_population_mean(sample_mean, sample_std_dev, sample_size):\n",
    "    margin_of_error = 1.96 * (sample_std_dev / (sample_size ** 0.5))\n",
    "    lower_bound = sample_mean - margin_of_error\n",
    "    upper_bound = sample_mean + margin_of_error\n",
    "    return (lower_bound, upper_bound)"
   ]
  },
  {
   "cell_type": "code",
   "execution_count": null,
   "id": "771fdc60-e6d1-4778-a702-e6ce1b978ef4",
   "metadata": {},
   "outputs": [],
   "source": [
    "Q3: What is Hypothesis testing? Why is it used? State the importance of Hypothesis testing."
   ]
  },
  {
   "cell_type": "code",
   "execution_count": null,
   "id": "e777fd2c-7357-4224-a094-7772a154f0a2",
   "metadata": {},
   "outputs": [],
   "source": [
    "Hypothesis testing is a statistical method used to test a hypothesis about a population parameter based on a sample\n",
    "of data. It involves formulating a null hypothesis (H0) and an alternative hypothesis (H1), and then using statistical \n",
    "methods to determine which hypothesis is more likely to be true.\n",
    "\n",
    "Hypothesis testing is used to:\n",
    "Make decisions about a population based on a sample of data\n",
    "Evaluate the validity of a hypothesis \n",
    "Identify relationships between variables\n",
    "Make predictions about future outcomes\n",
    "Importance of Hypothesis Testing\n",
    "\n",
    "Hypothesis testing is important because it allows us to:\n",
    "Make informed decisions: By testing hypotheses, we can make informed decisions about a population based on a \n",
    "sample of data.\n",
    "Reduce uncertainty: Hypothesis testing helps to reduce uncertainty by providing a statistical basis for our \n",
    "conclusions.\n",
    "Improve accuracy: By using statistical methods to test hypotheses, we can improve the accuracy of our conclusions.\n",
    "Increase confidence: Hypothesis testing provides a way to increase confidence in our conclusions by providing a \n",
    "statistical basis for our decisions.\n",
    "Facilitate communication: Hypothesis testing provides a common language and framework for communicating statistical \n",
    "results and conclusions."
   ]
  },
  {
   "cell_type": "code",
   "execution_count": null,
   "id": "e8fa3a0a-9ccf-487e-8c46-7252f9f0c0d3",
   "metadata": {},
   "outputs": [],
   "source": [
    "Q4. Create a hypothesis that states whether the average weight of male college students is greater than\n",
    "the average weight of female college students."
   ]
  },
  {
   "cell_type": "code",
   "execution_count": null,
   "id": "22d6d283-7b98-4cc3-912d-be3775b9572e",
   "metadata": {},
   "outputs": [],
   "source": [
    "Ho:The average weight of male college students is equal to the average weight of female college students.\n",
    "\n",
    "H1:The average weight of male college students is greater than the average weight of female college studen"
   ]
  },
  {
   "cell_type": "code",
   "execution_count": null,
   "id": "6b9a01e1-3ff0-4cb6-b44f-04ef3edae9ad",
   "metadata": {},
   "outputs": [],
   "source": [
    "Q5. Write a Python script to conduct a hypothesis test on the difference between two population means,\n",
    "given a sample from each population."
   ]
  },
  {
   "cell_type": "code",
   "execution_count": 5,
   "id": "7deab6e0-1ca8-4677-89d8-9f0d5f2dc0aa",
   "metadata": {},
   "outputs": [
    {
     "name": "stdout",
     "output_type": "stream",
     "text": [
      "Mean of sample 1: 13.285714285714286\n",
      "Mean of sample 2: 39.857142857142854\n",
      "Standard deviation of sample 1: 1.6659862556700857\n",
      "Standard deviation of sample 2: 48.47806152250306\n",
      "Sample size of sample 1: 7\n",
      "Sample size of sample 2: 7\n",
      "t-statistic: -1.3418036931259523\n",
      "p-value: 0.22809927611027586\n",
      "Fail to reject the null hypothesis: There is no significant difference between the two population means.\n"
     ]
    }
   ],
   "source": [
    "import numpy as np\n",
    "import scipy.stats as stats\n",
    "sample1 = np.array([12, 15, 14, 10, 13, 14, 15])\n",
    "sample2 = np.array([9, 10, 8, 130, 101, 9, 12])\n",
    "mean1 = np.mean(sample1)\n",
    "mean2 = np.mean(sample2)\n",
    "std1 = np.std(sample1)  \n",
    "std2 = np.std(sample2)\n",
    "n1 = len(sample1)\n",
    "n2 = len(sample2)\n",
    "t_statistic, p_value = stats.ttest_ind(sample1, sample2, equal_var=False) \n",
    "print(f\"Mean of sample 1: {mean1}\")\n",
    "print(f\"Mean of sample 2: {mean2}\")\n",
    "print(f\"Standard deviation of sample 1: {std1}\")\n",
    "print(f\"Standard deviation of sample 2: {std2}\")\n",
    "print(f\"Sample size of sample 1: {n1}\")\n",
    "print(f\"Sample size of sample 2: {n2}\")\n",
    "print(f\"t-statistic: {t_statistic}\")\n",
    "print(f\"p-value: {p_value}\")\n",
    "\n",
    "alpha = 0.05 \n",
    "\n",
    "if p_value < alpha:\n",
    "    print(\"Reject the null hypothesis: There is a significant difference between the two population means.\")\n",
    "else:\n",
    "    print(\"Fail to reject the null hypothesis: There is no significant difference between the two population means.\")\n"
   ]
  },
  {
   "cell_type": "code",
   "execution_count": null,
   "id": "f3104649-2875-4498-b92b-09679a5812ba",
   "metadata": {},
   "outputs": [],
   "source": [
    "Q6: What is a null and alternative hypothesis? Give some examples."
   ]
  },
  {
   "cell_type": "code",
   "execution_count": null,
   "id": "f6415338-8928-4ab2-bc03-7759710021d6",
   "metadata": {},
   "outputs": [],
   "source": [
    "null hypothesis is the assumption we are beginning with denoted by Ho\n",
    "example- \n",
    "experiment coin is fair or not \n",
    "p(H)=0.5 P(T)=0.5\n",
    "P(H)=0.6 P(T)=0.6\n",
    "null hypothesis (Ho) - the coin is fair\n",
    "\n",
    "alternate hypothesis is the opposite of the null hypothesis denoted by H1\n",
    "alternate hypothesis(H1)- the coin is not fair"
   ]
  },
  {
   "cell_type": "code",
   "execution_count": null,
   "id": "3b8ff582-6140-4ffb-85e9-d20aa61d4c66",
   "metadata": {},
   "outputs": [],
   "source": [
    "Q7: Write down the steps involved in hypothesis testing."
   ]
  },
  {
   "cell_type": "code",
   "execution_count": null,
   "id": "542e6f4e-7a63-498e-953c-8dfae6dfa7c0",
   "metadata": {},
   "outputs": [],
   "source": [
    "1. null hypothesis\n",
    "null hypothesis is the assumption we are beginning with denoted by Ho\n",
    "2. alternate hypothesis\n",
    "alternate hypothesis is the opposite of the null hypothesis denoted by H1\n",
    "3. experiments\n",
    "statistical analysis \n",
    "example- p value,z test, t test\n",
    "4. accept or reject the null hypothesis "
   ]
  },
  {
   "cell_type": "code",
   "execution_count": null,
   "id": "c114e9f4-03e3-4fd9-b237-00953ae58396",
   "metadata": {},
   "outputs": [],
   "source": [
    "Q8. Define p-value and explain its significance in hypothesis testing."
   ]
  },
  {
   "cell_type": "code",
   "execution_count": null,
   "id": "67dc6b5d-a4f4-4ec2-865b-c7adfed242e6",
   "metadata": {},
   "outputs": [],
   "source": [
    "p-value\n",
    "is a number calculated from a statistical test , that describe how likely you are to have found a particulat set \n",
    "of observations if the null hypothesis were true . it is used in hypothesis test to decide whether to reject \n",
    "the null hypothesis.\n",
    "The p-value helps researchers decide whether their results are significant and not due to chance. If the p-value is \n",
    "small, it gives them confidence to say their findings are meaningful.\n",
    "It is important because it adds a level of objectivity to decision-making in various fields such as medicine, \n",
    "economics, and social sciences.\n"
   ]
  },
  {
   "cell_type": "code",
   "execution_count": null,
   "id": "c2b00f03-2fea-4e84-9cc7-256eac310c12",
   "metadata": {},
   "outputs": [],
   "source": [
    "Q9. Generate a Student's t-distribution plot using Python's matplotlib library, with the degrees of freedom\n",
    "parameter set to 10."
   ]
  },
  {
   "cell_type": "code",
   "execution_count": null,
   "id": "aa75cbbd-1b66-44dd-addc-7563b3667deb",
   "metadata": {},
   "outputs": [],
   "source": [
    "import matplotlib.pyplot as plt\n",
    "import numpy as np\n",
    "import scipy.stats as stats\n",
    "df = 10\n",
    "x = np.linspace(-4, 4, 1000)\n",
    "y = stats.t.pdf(x, df)\n",
    "plt.plot(x, y)\n",
    "plt.title(\"Student's t-distribution\")\n",
    "plt.xlabel('x')\n",
    "plt.ylabel('Probability Density')\n",
    "plt.legend()\n",
    "plt.grid(True)\n",
    "plt.show()\n"
   ]
  },
  {
   "cell_type": "code",
   "execution_count": null,
   "id": "7d7429d8-71d4-44c1-bd13-e57cb15bc367",
   "metadata": {},
   "outputs": [],
   "source": [
    "Q10. Write a Python program to calculate the two-sample t-test for independent samples, given two\n",
    "random samples of equal size and a null hypothesis that the population means are equal."
   ]
  },
  {
   "cell_type": "code",
   "execution_count": null,
   "id": "533b9295-3a8c-42b6-89d1-bbf76b738866",
   "metadata": {},
   "outputs": [],
   "source": [
    "import numpy as np\n",
    "from scipy.stats import ttest_ind\n",
    "def two_sample_ttest(sample1, sample2):\n",
    "    t_statistic, p_value = ttest_ind(sample1, sample2, equal_var=False)\n",
    "\n",
    "    return t_statistic, p_value\n",
    "sample1 = np.array([1.1, 2.2, 3.3, 4.4, 5.5])\n",
    "sample2 = np.array([2.1, 3.2, 4.3, 5.4, 6.5])\n",
    "t_statistic, p_value = two_sample_ttest(sample1, sample2)\n",
    "print(f\"T-statistic: {t_statistic}\")\n",
    "print(f\"P-value: {p_value}\")\n",
    "\n",
    "alpha = 0.05\n",
    "if p_value < alpha:\n",
    "    print(\"Reject the null hypothesis: The population means are different.\")\n",
    "else:\n",
    "    print(\"Fail to reject the null hypothesis: The population means are not different.\")\n",
    "\n"
   ]
  },
  {
   "cell_type": "code",
   "execution_count": null,
   "id": "0439f653-b832-46a1-84df-7d6346fe640d",
   "metadata": {},
   "outputs": [],
   "source": [
    "Q11: What is Student’s t distribution? When to use the t-Distribution."
   ]
  },
  {
   "cell_type": "code",
   "execution_count": null,
   "id": "d7671f76-4e5b-4bbf-a91b-4e402bd22cd6",
   "metadata": {},
   "outputs": [],
   "source": [
    "is a probability distribution that arises in the context of estimating the mean of a normally distributed population \n",
    "when the sample size is small and the population standard deviation is unknown. It is a continuous distribution that \n",
    "is symmetric and bell-shaped, similar to the normal distribution, but with heavier tails. This means it has a higher \n",
    "probability for extreme values, which makes it more robust for small sample sizes.\n",
    "t=(sample mean-population mean)/(sample std/ root n)\n",
    "n=sample size\n",
    "degree of freedom = n-1"
   ]
  },
  {
   "cell_type": "code",
   "execution_count": null,
   "id": "ce0ac87d-5019-4c0d-ae29-2c5749f0165a",
   "metadata": {},
   "outputs": [],
   "source": [
    "Q12: What is t-statistic? State the formula for t-statistic."
   ]
  },
  {
   "cell_type": "code",
   "execution_count": null,
   "id": "0a43b47e-b845-48b5-9e02-b870c0d42ed2",
   "metadata": {},
   "outputs": [],
   "source": [
    "The t-statistic is a value computed in hypothesis testing when the sample size is small, and the population standard \n",
    "deviation is unknown. It measures the size of the difference relative to the variation in your sample data. \n",
    "Specifically, it indicates how many standard errors the sample mean is away from the hypothesized population mean.\n",
    "\n",
    "t=(sample mean-population mean)/(sample std/ root n)\n",
    "n=sample size\n",
    "degree of freedom = n-1\n"
   ]
  },
  {
   "cell_type": "code",
   "execution_count": null,
   "id": "d91cddf5-ea94-4950-aa9e-b332b2adb8b3",
   "metadata": {},
   "outputs": [],
   "source": [
    "Q13. A coffee shop owner wants to estimate the average daily revenue for their shop. They take a random\n",
    "sample of 50 days and find the sample mean revenue to be $500 with a standard deviation of $50.\n",
    "Estimate the population mean revenue with a 95% confidence interval."
   ]
  },
  {
   "cell_type": "code",
   "execution_count": null,
   "id": "1af607b1-a59d-48ff-9ea8-ce54b765b5ff",
   "metadata": {
    "tags": []
   },
   "outputs": [],
   "source": [
    "n=50\n",
    "sample_mean=500\n",
    "sample_std=50\n",
    "c_i=0.95\n",
    "The formula for a 95% confidence interval is: Sample Mean - 1.96 * (Sample_std / √n)\n",
    " and  Sample Mean + 1.96 * (Sample Standard Deviation / √Sample Size)\n",
    "\n",
    "500 + 1.96*(50 / √50)\n",
    "\n",
    "This gives a range of: \n",
    "500-13.86 and 500+13.86\n",
    "\n",
    "So the 95% confidence interval for the average daily revenue is: \n",
    "486.14 to 513.86\n"
   ]
  },
  {
   "cell_type": "code",
   "execution_count": null,
   "id": "b3a25449-f25a-4499-b569-33da544264b5",
   "metadata": {},
   "outputs": [],
   "source": [
    "Q14. A researcher hypothesizes that a new drug will decrease blood pressure by 10 mmHg. They conduct a\n",
    "clinical trial with 100 patients and find that the sample mean decrease in blood pressure is 8 mmHg with a\n",
    "standard deviation of 3 mmHg. Test the hypothesis with a significance level of 0.05."
   ]
  },
  {
   "cell_type": "code",
   "execution_count": null,
   "id": "1dd58347-c67b-42c3-bcd0-67fe46a59d6f",
   "metadata": {},
   "outputs": [],
   "source": [
    "n=100\n",
    "pop_mean=10\n",
    "sample_mean=8\n",
    "sample_std=3\n",
    "significance level =0.05 \n",
    "CI=1-0.05=0.95\n",
    "alpha=1-0.95=0.05\n",
    "h0= pop_mean=10\n",
    "h1=pop_mean!=10\n",
    "experiment= p-value\n",
    "z-test=(sample_mean-pop_mean)/(sample_std/root sample_size)\n",
    "z-test=8-10/(3/10)= -6.67"
   ]
  },
  {
   "cell_type": "code",
   "execution_count": null,
   "id": "2e17b575-c57f-4ccd-942d-98eb31394243",
   "metadata": {},
   "outputs": [],
   "source": [
    "Q15. An electronics company produces a certain type of product with a mean weight of 5 pounds and a\n",
    "standard deviation of 0.5 pounds. A random sample of 25 products is taken, and the sample mean weight\n",
    "is found to be 4.8 pounds. Test the hypothesis that the true mean weight of the products is less than 5\n",
    "pounds with a significance level of 0.01."
   ]
  },
  {
   "cell_type": "code",
   "execution_count": null,
   "id": "2bff9d3f-18cd-4cc6-9f02-ad8ab16733eb",
   "metadata": {},
   "outputs": [],
   "source": [
    "mean=5\n",
    "std=0.5\n",
    "n=25\n",
    "smean=4.8\n",
    "sl=0.01\n",
    "ci=0.99\n",
    "p value\n",
    "ztest =4.8-5/(0.5/5)=-0.4\n",
    "area under curve=0.3446=p value\n",
    "if pvalue<significance value\n",
    "0.3446<0.01 false\n",
    "therefore the hypothesis that the true mean weight of the products is less than 5\n",
    "pounds is rejected"
   ]
  },
  {
   "cell_type": "code",
   "execution_count": null,
   "id": "1489aa00-855d-47fc-93ce-9d5747ceadbf",
   "metadata": {},
   "outputs": [],
   "source": [
    "Q16. Two groups of students are given different study materials to prepare for a test. The first group (n1 =\n",
    "30) has a mean score of 80 with a standard deviation of 10, and the second group (n2 = 40) has a mean\n",
    "score of 75 with a standard deviation of 8. Test the hypothesis that the population means for the two\n",
    "groups are equal with a significance level of 0.01."
   ]
  },
  {
   "cell_type": "code",
   "execution_count": null,
   "id": "780de0e7-8fae-42e6-bb9a-bc429d541bbe",
   "metadata": {},
   "outputs": [],
   "source": [
    "Ho the population means for the two groups are equal\n",
    "H1 the population means for the two groups are not equal\n",
    "t=x1_-x2_/root(s1**2/n1+s2**2/n2)\n",
    "t=2.25"
   ]
  },
  {
   "cell_type": "code",
   "execution_count": null,
   "id": "c65b910d-f121-4980-baf1-bfa2a2484c0d",
   "metadata": {},
   "outputs": [],
   "source": [
    "Q17. A marketing company wants to estimate the average number of ads watched by viewers during a TV\n",
    "program. They take a random sample of 50 viewers and find that the sample mean is 4 with a standard\n",
    "deviation of 1.5. Estimate the population mean with a 99% confidence interval."
   ]
  },
  {
   "cell_type": "code",
   "execution_count": null,
   "id": "88b8090a-0ecc-4b06-a46e-cb7b31cf1bea",
   "metadata": {},
   "outputs": [],
   "source": [
    "n=50\n",
    "smean=4\n",
    "sstd=1.5\n",
    "ci=0.99\n",
    "using t test\n",
    "x-is the sample mean\n",
    "t is the t-score for the 99% confidence level\n",
    "s is the sample standard deviation\n",
    "n is the sample size\n",
    "population mean=sample mean-t(s/root n)\n",
    "dof=49\n",
    "t value for 49 degree of freedom is 2.68\n",
    "population mean is in range(4-0.568 and 4+0.568)\n"
   ]
  }
 ],
 "metadata": {
  "kernelspec": {
   "display_name": "Python 3 (ipykernel)",
   "language": "python",
   "name": "python3"
  },
  "language_info": {
   "codemirror_mode": {
    "name": "ipython",
    "version": 3
   },
   "file_extension": ".py",
   "mimetype": "text/x-python",
   "name": "python",
   "nbconvert_exporter": "python",
   "pygments_lexer": "ipython3",
   "version": "3.10.8"
  }
 },
 "nbformat": 4,
 "nbformat_minor": 5
}
